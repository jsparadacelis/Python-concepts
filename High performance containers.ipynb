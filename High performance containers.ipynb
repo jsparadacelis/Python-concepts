{
 "cells": [
  {
   "cell_type": "markdown",
   "metadata": {},
   "source": [
    "# High performance containers – the ```collections``` module"
   ]
  },
  {
   "cell_type": "markdown",
   "metadata": {},
   "source": [
    "The collections module is the high performace alternative for built-in data structures (lists, tuples, sets and dicts):\n",
    "\n",
    "- deque: \n",
    "    - Supports rotation and reverse operations.\n",
    "- defaultdict:\n",
    "    - Uses type factories to provide default values to dictionary keys.\n",
    "- ordereddict:\n",
    "    - A mix between lists and dicts.\n",
    "- counter:\n",
    "    - Gives us a counter for elements in an iterable.\n",
    "- chainmap:\n",
    "    - Groups many dicts in only one object."
   ]
  },
  {
   "cell_type": "markdown",
   "metadata": {},
   "source": [
    "## Deques"
   ]
  },
  {
   "cell_type": "code",
   "execution_count": 1,
   "metadata": {},
   "outputs": [],
   "source": [
    "from collections import deque\n",
    "import random, timeit"
   ]
  },
  {
   "cell_type": "markdown",
   "metadata": {},
   "source": [
    "### Rotation"
   ]
  },
  {
   "cell_type": "markdown",
   "metadata": {},
   "source": [
    "#### Rotation in lists"
   ]
  },
  {
   "cell_type": "code",
   "execution_count": 2,
   "metadata": {},
   "outputs": [],
   "source": [
    "def list_rotate(seq1, n):\n",
    "    \"\"\" Rotate a list left by n \"\"\"\n",
    "    # E.g: rotate([1,2,3,4,5], 2) => [4,5,1,2,3]\n",
    "    return seq1[-n:] + seq1[:-n]"
   ]
  },
  {
   "cell_type": "code",
   "execution_count": 41,
   "metadata": {},
   "outputs": [],
   "source": [
    "seq = random.sample(range(0, 10000), 1000)"
   ]
  },
  {
   "cell_type": "code",
   "execution_count": 4,
   "metadata": {
    "scrolled": true
   },
   "outputs": [
    {
     "data": {
      "text/plain": [
       "6.5383076460002485"
      ]
     },
     "execution_count": 4,
     "metadata": {},
     "output_type": "execute_result"
    }
   ],
   "source": [
    "timeit.timeit(\"list_rotate(seq, 10)\", setup=\"from __main__ import list_rotate, seq\")"
   ]
  },
  {
   "cell_type": "markdown",
   "metadata": {},
   "source": [
    "#### Rotation in deques"
   ]
  },
  {
   "cell_type": "code",
   "execution_count": 43,
   "metadata": {},
   "outputs": [],
   "source": [
    "deque_seq = deque(seq)"
   ]
  },
  {
   "cell_type": "code",
   "execution_count": 6,
   "metadata": {},
   "outputs": [
    {
     "data": {
      "text/plain": [
       "0.12837861300067743"
      ]
     },
     "execution_count": 6,
     "metadata": {},
     "output_type": "execute_result"
    }
   ],
   "source": [
    "timeit.timeit(\"deque_seq.rotate(10)\", setup=\"from __main__ import deque_seq\")"
   ]
  },
  {
   "cell_type": "markdown",
   "metadata": {},
   "source": [
    "Performance for rotation is better in deques than lists."
   ]
  },
  {
   "cell_type": "markdown",
   "metadata": {},
   "source": [
    "### Insert"
   ]
  },
  {
   "cell_type": "markdown",
   "metadata": {},
   "source": [
    "#### Insert in lists"
   ]
  },
  {
   "cell_type": "code",
   "execution_count": 44,
   "metadata": {},
   "outputs": [],
   "source": [
    "seq_1 = random.sample(range(0, 10000), 1000)"
   ]
  },
  {
   "cell_type": "code",
   "execution_count": 8,
   "metadata": {},
   "outputs": [
    {
     "data": {
      "text/plain": [
       "297.45836762600084"
      ]
     },
     "execution_count": 8,
     "metadata": {},
     "output_type": "execute_result"
    }
   ],
   "source": [
    "timeit.timeit(\"seq_1.insert(500,9999)\", setup=\"from __main__ import seq_1\")"
   ]
  },
  {
   "cell_type": "markdown",
   "metadata": {},
   "source": [
    "#### Insert in deques"
   ]
  },
  {
   "cell_type": "code",
   "execution_count": 45,
   "metadata": {},
   "outputs": [],
   "source": [
    "deque_seq_1 = deque(seq_1)"
   ]
  },
  {
   "cell_type": "code",
   "execution_count": 10,
   "metadata": {},
   "outputs": [
    {
     "data": {
      "text/plain": [
       "0.8769112850004603"
      ]
     },
     "execution_count": 10,
     "metadata": {},
     "output_type": "execute_result"
    }
   ],
   "source": [
    "timeit.timeit(\"deque_seq_1.insert(500,9999)\", setup=\"from __main__ import deque_seq_1\")"
   ]
  },
  {
   "cell_type": "markdown",
   "metadata": {},
   "source": [
    "## Defaultdict"
   ]
  },
  {
   "cell_type": "code",
   "execution_count": 27,
   "metadata": {},
   "outputs": [
    {
     "data": {
      "text/plain": [
       "defaultdict(list,\n",
       "            {'orange': [3], 'yellow': [1, 3], 'blue': [2, 4], 'red': [1]})"
      ]
     },
     "execution_count": 27,
     "metadata": {},
     "output_type": "execute_result"
    }
   ],
   "source": [
    "from collections import defaultdict\n",
    "s = [('orange', 3), ('yellow', 1), ('blue', 2), ('yellow', 3), ('blue', 4), ('red', 1)]\n",
    "d = defaultdict(list)\n",
    "\n",
    "for k, v in s:\n",
    "    d[k].append(v)\n",
    "d"
   ]
  },
  {
   "cell_type": "code",
   "execution_count": 36,
   "metadata": {},
   "outputs": [
    {
     "data": {
      "text/plain": [
       "defaultdict(set, {'orange': {3}, 'yellow': {1, 3}, 'blue': {2, 4}, 'red': {1}})"
      ]
     },
     "execution_count": 36,
     "metadata": {},
     "output_type": "execute_result"
    }
   ],
   "source": [
    "s = [('orange', 3), ('yellow', 1), ('blue', 2), ('yellow', 3), ('blue', 4), ('red', 1)]\n",
    "# pass data structure expected as the value schema\n",
    "d = defaultdict(set)\n",
    "\n",
    "for k, v in s:\n",
    "    d[k].add(v)\n",
    "d"
   ]
  },
  {
   "cell_type": "markdown",
   "metadata": {},
   "source": [
    "As we can see, defaultdict maintains the order of insertion in dictionary. Besides, if a key exists, adds the new value to the existing list."
   ]
  },
  {
   "cell_type": "markdown",
   "metadata": {},
   "source": [
    "## Ordereddict"
   ]
  },
  {
   "cell_type": "markdown",
   "metadata": {},
   "source": [
    "Its name gives us a hint about its functionality. Maintains insertion order."
   ]
  },
  {
   "cell_type": "code",
   "execution_count": 62,
   "metadata": {},
   "outputs": [
    {
     "data": {
      "text/plain": [
       "OrderedDict([(('Colombia', 'Bogotá'), None),\n",
       "             ('Peru', None),\n",
       "             ('Ecuador', None)])"
      ]
     },
     "execution_count": 62,
     "metadata": {},
     "output_type": "execute_result"
    }
   ],
   "source": [
    "from collections import OrderedDict\n",
    "\n",
    "# hint: defining a tuple as a key in a dictionary.\n",
    "d = OrderedDict.fromkeys([('Colombia', 'Bogotá'), 'Peru', 'Ecuador'])\n",
    "d"
   ]
  },
  {
   "cell_type": "markdown",
   "metadata": {},
   "source": [
    "Ordered dict can be understood as mix of dict and list. Supports methods:\n",
    "- ``` popitem(last=True)``` default last value is True, in this case, performs as LIFO structure. On the other hand, if last is False performs as FIFO.\n",
    "- ``` move_to_end(key, last=True) ``` receives *key* to move to the last index of the dict. If last is False, moves the value to the first one."
   ]
  },
  {
   "cell_type": "code",
   "execution_count": 63,
   "metadata": {},
   "outputs": [
    {
     "name": "stdout",
     "output_type": "stream",
     "text": [
      "(('Colombia', 'Bogotá'), None) ('Ecuador', None)\n"
     ]
    },
    {
     "data": {
      "text/plain": [
       "OrderedDict([('Peru', None)])"
      ]
     },
     "execution_count": 63,
     "metadata": {},
     "output_type": "execute_result"
    }
   ],
   "source": [
    "print(d.popitem(last=0), d.popitem())\n",
    "d"
   ]
  },
  {
   "cell_type": "code",
   "execution_count": 64,
   "metadata": {},
   "outputs": [
    {
     "name": "stdout",
     "output_type": "stream",
     "text": [
      "OrderedDict([('Peru', None), ('Argentina', 'Paraná')])\n"
     ]
    },
    {
     "data": {
      "text/plain": [
       "OrderedDict([('Argentina', 'Paraná'), ('Peru', None)])"
      ]
     },
     "execution_count": 64,
     "metadata": {},
     "output_type": "execute_result"
    }
   ],
   "source": [
    "# Now, add a new item to dictionary.\n",
    "d['Argentina'] = 'Paraná'\n",
    "print(d)\n",
    "d.move_to_end('Peru')\n",
    "d"
   ]
  },
  {
   "cell_type": "markdown",
   "metadata": {},
   "source": [
    "Besides things looked above, this structure drops duplicate values. Look:"
   ]
  },
  {
   "cell_type": "code",
   "execution_count": 66,
   "metadata": {},
   "outputs": [
    {
     "data": {
      "text/plain": [
       "OrderedDict([('Deckeunik', None), ('Ineos', None), ('Movistar', None)])"
      ]
     },
     "execution_count": 66,
     "metadata": {},
     "output_type": "execute_result"
    }
   ],
   "source": [
    "list_cycling_teams = ['Deckeunik', 'Ineos', 'Movistar', 'Movistar']\n",
    "cycling_dict = OrderedDict.fromkeys(list_cycling_teams)\n",
    "cycling_dict"
   ]
  },
  {
   "cell_type": "markdown",
   "metadata": {},
   "source": [
    "## Counter\n",
    "\n",
    "This structure allows us to get the quantity of items, per example in a text. We need to pass an iterable or mapping as param in constructor."
   ]
  },
  {
   "cell_type": "code",
   "execution_count": 70,
   "metadata": {},
   "outputs": [
    {
     "name": "stdout",
     "output_type": "stream",
     "text": [
      "{'tres': 2, 'tristes': 2, 'tigres': 1, 'estan': 1, 'comiendo': 1, 'en': 1, 'platos': 1}\n",
      "Counter({'tres': 2, 'tristes': 2, 'tigres': 1, 'estan': 1, 'comiendo': 1, 'en': 1, 'platos': 1})\n"
     ]
    }
   ],
   "source": [
    "from collections import Counter\n",
    "\n",
    "\n",
    "paragraph = \"tres tristes tigres estan comiendo en tres tristes platos\"\n",
    "\n",
    "# instead of this\n",
    "quantities = {}\n",
    "for word in paragraph.split():\n",
    "    if word in quantities:\n",
    "        quantities[word] += 1\n",
    "    else:\n",
    "        quantities[word] = 1\n",
    "\n",
    "print(quantities)\n",
    "\n",
    "# you can do ...\n",
    "quantities_counter = Counter(paragraph.split())\n",
    "print(quantities_counter)\n"
   ]
  },
  {
   "cell_type": "code",
   "execution_count": 76,
   "metadata": {},
   "outputs": [
    {
     "name": "stdout",
     "output_type": "stream",
     "text": [
      "Counter({'o': 6, 'r': 3, 'n': 3, 'i': 2, 'g': 2, 't': 1, 'a': 1, 'l': 1})\n",
      "[('o', 6), ('r', 3)]\n"
     ]
    }
   ],
   "source": [
    "counter_word = Counter(\"otorrinonaringologo\")\n",
    "print(counter_word)\n",
    "\n",
    "# most_common method\n",
    "print(counter_word.most_common(2))"
   ]
  },
  {
   "cell_type": "markdown",
   "metadata": {},
   "source": [
    "## ChainMap\n",
    "\n",
    "Groups many dicts in only one object. Writes, updates, and deletions only operate on the first mapping"
   ]
  },
  {
   "cell_type": "code",
   "execution_count": 16,
   "metadata": {},
   "outputs": [
    {
     "name": "stdout",
     "output_type": "stream",
     "text": [
      "y 3\n",
      "x 2\n"
     ]
    }
   ],
   "source": [
    "from collections import ChainMap\n",
    "\n",
    "# creating chainmap passing dicts in constructor\n",
    "from_constructor =  ChainMap({\"x\":2}, {\"y\":3})\n",
    "for key, value in from_constructor.items():\n",
    "    print(key, value)"
   ]
  },
  {
   "cell_type": "code",
   "execution_count": 17,
   "metadata": {},
   "outputs": [
    {
     "name": "stdout",
     "output_type": "stream",
     "text": [
      "b 4\n",
      "a 1\n"
     ]
    }
   ],
   "source": [
    "# creating chainmap throuhgt maps attribute\n",
    "from_maps_attr = ChainMap()\n",
    "from_maps_attr.maps = [{\"a\":1},{\"b\":4}]\n",
    "for key, value in from_maps_attr.items():\n",
    "    print(key, value)"
   ]
  },
  {
   "cell_type": "code",
   "execution_count": 20,
   "metadata": {},
   "outputs": [
    {
     "name": "stdout",
     "output_type": "stream",
     "text": [
      "ChainMap({'x': 2}, {'y': 3})\n",
      "ChainMap({'z': 1}, {'x': 2}, {'y': 3})\n"
     ]
    }
   ],
   "source": [
    "# We can use new_child method to pass a dict that we want it's going to be the initial dict\n",
    "pattern = ChainMap({\"x\":2}, {\"y\":3})\n",
    "print(pattern)\n",
    "as_new_child = pattern.new_child({\"z\":1})\n",
    "print(as_new_child)"
   ]
  }
 ],
 "metadata": {
  "kernelspec": {
   "display_name": "Python 3",
   "language": "python",
   "name": "python3"
  },
  "language_info": {
   "codemirror_mode": {
    "name": "ipython",
    "version": 3
   },
   "file_extension": ".py",
   "mimetype": "text/x-python",
   "name": "python",
   "nbconvert_exporter": "python",
   "pygments_lexer": "ipython3",
   "version": "3.7.6"
  }
 },
 "nbformat": 4,
 "nbformat_minor": 4
}
