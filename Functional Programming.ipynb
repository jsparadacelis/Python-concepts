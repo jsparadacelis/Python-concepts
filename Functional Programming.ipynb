{
 "cells": [
  {
   "cell_type": "markdown",
   "metadata": {},
   "source": [
    "Practical advantages about functional programming\n",
    "\n",
    "- Modularity: Needly you need to organice your code. Maintain it ordered and clear in order to reuse it.\n",
    "- Concurrency"
   ]
  },
  {
   "cell_type": "markdown",
   "metadata": {},
   "source": [
    "# Pure functions\n",
    "\n",
    "A pure function is one that does not produce side effects."
   ]
  },
  {
   "cell_type": "code",
   "execution_count": 4,
   "metadata": {},
   "outputs": [],
   "source": [
    "def remove_last_pop(a_list):\n",
    "    a_list.pop(-1)\n",
    "    return a_list\n",
    "\n",
    "def remove_last_index(a_list):\n",
    "    return a_list[:-1]"
   ]
  },
  {
   "cell_type": "markdown",
   "metadata": {},
   "source": [
    "As you can see in below cell, using ```pop() ``` method causes side effects directly on original list,  but the second one function doesn't modifie this list. "
   ]
  },
  {
   "cell_type": "code",
   "execution_count": 9,
   "metadata": {},
   "outputs": [
    {
     "name": "stdout",
     "output_type": "stream",
     "text": [
      "before: ['Real Madrid', 'PSG', 'ManUtd'], return: ['Real Madrid', 'PSG'], after: ['Real Madrid', 'PSG']\n",
      "before: ['Real Madrid', 'PSG'], return: ['Real Madrid'], after: ['Real Madrid', 'PSG']\n"
     ]
    }
   ],
   "source": [
    "team_list = ['Real Madrid', 'PSG', 'ManUtd']\n",
    "\n",
    "# here, we remove the last element of original list\n",
    "print(f\"before: {team_list}, return: {remove_last_pop(team_list)}, after: {team_list}\")\n",
    "\n",
    "# here we returns a copy from original list without last element\n",
    "print(f\"before: {team_list}, return: {remove_last_index(team_list)}, after: {team_list}\")"
   ]
  },
  {
   "cell_type": "markdown",
   "metadata": {},
   "source": [
    "# Generators"
   ]
  },
  {
   "cell_type": "code",
   "execution_count": 10,
   "metadata": {},
   "outputs": [],
   "source": [
    "def gime_me_two():\n",
    "    yield 2"
   ]
  },
  {
   "cell_type": "code",
   "execution_count": 26,
   "metadata": {},
   "outputs": [
    {
     "data": {
      "text/plain": [
       "2"
      ]
     },
     "execution_count": 26,
     "metadata": {},
     "output_type": "execute_result"
    }
   ],
   "source": [
    "a = gime_me_two()\n",
    "next(a)"
   ]
  },
  {
   "cell_type": "code",
   "execution_count": null,
   "metadata": {},
   "outputs": [],
   "source": []
  }
 ],
 "metadata": {
  "kernelspec": {
   "display_name": "Python 3",
   "language": "python",
   "name": "python3"
  },
  "language_info": {
   "codemirror_mode": {
    "name": "ipython",
    "version": 3
   },
   "file_extension": ".py",
   "mimetype": "text/x-python",
   "name": "python",
   "nbconvert_exporter": "python",
   "pygments_lexer": "ipython3",
   "version": "3.7.6"
  }
 },
 "nbformat": 4,
 "nbformat_minor": 4
}
